{
 "cells": [
  {
   "cell_type": "markdown",
   "id": "929c0d85",
   "metadata": {
    "pycharm": {
     "name": "#%% md\n"
    }
   },
   "source": [
    "# Project 01 - Image Registration\n",
    "\n",
    "__Handout date:__ 02.05.2024  \n",
    "__Submission deadline:__ 22.05.2024, 23:59  \n",
    "__Topics:__ Registration.  \n",
    "__Submission link:__ https://fz-juelich.sciebo.de/s/wZWy0nLpVTEI94K"
   ]
  },
  {
   "cell_type": "markdown",
   "id": "b8253429",
   "metadata": {
    "pycharm": {
     "name": "#%% md\n"
    }
   },
   "source": [
    "In this project, we would like you to investigate image registration. For this purpose, we will give you a batch of unregistered brain images from our research group. Your task is to apply the methods from the lecture and transform these images onto each other to obtain a 3D representation of the original brain.\n",
    "\n",
    "![A stack of images](./supplementary/stacking.png)\n",
    "\n",
    "You can find and download the images in the data folder next to thhis project in sciebo.\n",
    "\n",
    "Image registration consists of five steps:\n",
    "1. detecting image features (you can use feature detectors provided by scikit-image from OpenCV).\n",
    "2. matching of these image features (use and implement the matching algorithm described in the lecture)\n",
    "3. removing outliers (use the RANSAC method to remove outliers)\n",
    "4. calculate a transformation (the calculation of a transformation from the feature points and matches was described in the exercise)\n",
    "5. transform the image (use backwards mapping to transform the image)\n",
    "\n",
    "To register the entire batch, you need to go through the images and link the transformations together\n",
    "\n",
    "Tipps and hints:\n",
    "1. Start with just two images, generalize it and then apply it to all images\n",
    "2. It may be useful to start with just translations and then work your way up to more complex transformations\n",
    "3. There are non-linearities in the deformed images, so don't expect to align them perfectly\n",
    "4. It can help to visualize the feature points detected and the matches found."
   ]
  },
  {
   "cell_type": "code",
   "execution_count": null,
   "id": "ea651570-f9e4-4fea-9abd-548e1fd42fe5",
   "metadata": {},
   "outputs": [],
   "source": []
  }
 ],
 "metadata": {
  "kernelspec": {
   "display_name": "Python 3 (ipykernel)",
   "language": "python",
   "name": "python3"
  },
  "language_info": {
   "codemirror_mode": {
    "name": "ipython",
    "version": 3
   },
   "file_extension": ".py",
   "mimetype": "text/x-python",
   "name": "python",
   "nbconvert_exporter": "python",
   "pygments_lexer": "ipython3",
   "version": "3.11.5"
  }
 },
 "nbformat": 4,
 "nbformat_minor": 5
}
